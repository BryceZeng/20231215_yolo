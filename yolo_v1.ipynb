{
 "cells": [
  {
   "cell_type": "code",
   "execution_count": 2,
   "metadata": {},
   "outputs": [
    {
     "name": "stderr",
     "output_type": "stream",
     "text": [
      "Ultralytics YOLOv8.0.207  Python-3.8.18 torch-2.1.0+cpu CPU (13th Gen Intel Core(TM) i7-1370P)\n",
      "Setup complete  (20 CPUs, 31.7 GB RAM, 288.4/1906.1 GB disk)\n"
     ]
    }
   ],
   "source": [
    "import ultralytics\n",
    "\n",
    "ultralytics.checks()"
   ]
  },
  {
   "cell_type": "code",
   "execution_count": 5,
   "metadata": {},
   "outputs": [],
   "source": [
    "from ultralytics import YOLO\n",
    "from IPython.display import display, Image"
   ]
  },
  {
   "cell_type": "code",
   "execution_count": 6,
   "metadata": {},
   "outputs": [
    {
     "data": {
      "text/plain": [
       "'c:\\\\Users\\\\c0qs95\\\\Projects\\\\20231106_yolo'"
      ]
     },
     "execution_count": 6,
     "metadata": {},
     "output_type": "execute_result"
    }
   ],
   "source": [
    "import os\n",
    "\n",
    "Home = os.getcwd()\n",
    "Home"
   ]
  },
  {
   "cell_type": "code",
   "execution_count": null,
   "metadata": {},
   "outputs": [],
   "source": [
    "from roboflow import Roboflow\n",
    "\n",
    "rf = Roboflow(api_key=\"7N79litXnSci7JtMDYwZ\")\n",
    "project = rf.workspace(\"own-ns5nt\").project(\"hard-hat-sample-f9qdp\")\n",
    "dataset = project.version(3).download(\"yolov8\")\n",
    "\n",
    "dataset.location"
   ]
  },
  {
   "cell_type": "code",
   "execution_count": null,
   "metadata": {},
   "outputs": [],
   "source": [
    "from ultralytics import YOLO\n",
    "\n",
    "model = YOLO(\"yolov8n.pt\")\n",
    "model.predict(\n",
    "    source=\"https://media.roboflow.com/notebooks/examples/dog.jpeg\", conf=0.25\n",
    ")"
   ]
  },
  {
   "cell_type": "code",
   "execution_count": 1,
   "metadata": {},
   "outputs": [],
   "source": [
    "from ultralytics import YOLO\n",
    "# Load the model.\n",
    "model = YOLO(\"yolov8n.pt\")\n"
   ]
  },
  {
   "cell_type": "code",
   "execution_count": 73,
   "metadata": {},
   "outputs": [
    {
     "name": "stderr",
     "output_type": "stream",
     "text": [
      "Ultralytics YOLOv8.0.207  Python-3.8.18 torch-2.1.0+cpu CPU (13th Gen Intel Core(TM) i7-1370P)\n",
      "\u001b[34m\u001b[1mengine\\trainer: \u001b[0mtask=detect, mode=train, model=yolov8n.pt, data=pothole.yaml, epochs=10, patience=50, batch=1, imgsz=640, save=True, save_period=-1, cache=False, device=None, workers=0, project=None, name=yolov8n_custom2, exist_ok=False, pretrained=True, optimizer=auto, verbose=True, seed=0, deterministic=True, single_cls=False, rect=False, cos_lr=False, close_mosaic=10, resume=False, amp=True, fraction=1.0, profile=False, freeze=None, overlap_mask=True, mask_ratio=4, dropout=0.0, val=True, split=val, save_json=False, save_hybrid=False, conf=None, iou=0.7, max_det=300, half=False, dnn=False, plots=True, source=None, show=False, save_txt=False, save_conf=False, save_crop=False, show_labels=True, show_conf=True, vid_stride=1, stream_buffer=False, line_width=None, visualize=False, augment=False, agnostic_nms=False, classes=None, retina_masks=False, boxes=True, format=torchscript, keras=False, optimize=False, int8=False, dynamic=False, simplify=False, opset=None, workspace=4, nms=False, lr0=0.01, lrf=0.01, momentum=0.937, weight_decay=0.0005, warmup_epochs=3.0, warmup_momentum=0.8, warmup_bias_lr=0.0, box=7.5, cls=0.5, dfl=1.5, pose=12.0, kobj=1.0, label_smoothing=0.0, nbs=64, hsv_h=0.015, hsv_s=0.7, hsv_v=0.4, degrees=0.0, translate=0.1, scale=0.5, shear=0.0, perspective=0.0, flipud=0.0, fliplr=0.5, mosaic=0.0, mixup=0.0, copy_paste=0.0, cfg=None, tracker=botsort.yaml, save_dir=runs\\detect\\yolov8n_custom2\n",
      "\n",
      "                   from  n    params  module                                       arguments                     \n",
      "  0                  -1  1       464  ultralytics.nn.modules.conv.Conv             [3, 16, 3, 2]                 \n",
      "  1                  -1  1      4672  ultralytics.nn.modules.conv.Conv             [16, 32, 3, 2]                \n",
      "  2                  -1  1      7360  ultralytics.nn.modules.block.C2f             [32, 32, 1, True]             \n",
      "  3                  -1  1     18560  ultralytics.nn.modules.conv.Conv             [32, 64, 3, 2]                \n",
      "  4                  -1  2     49664  ultralytics.nn.modules.block.C2f             [64, 64, 2, True]             \n",
      "  5                  -1  1     73984  ultralytics.nn.modules.conv.Conv             [64, 128, 3, 2]               \n",
      "  6                  -1  2    197632  ultralytics.nn.modules.block.C2f             [128, 128, 2, True]           \n",
      "  7                  -1  1    295424  ultralytics.nn.modules.conv.Conv             [128, 256, 3, 2]              \n",
      "  8                  -1  1    460288  ultralytics.nn.modules.block.C2f             [256, 256, 1, True]           \n",
      "  9                  -1  1    164608  ultralytics.nn.modules.block.SPPF            [256, 256, 5]                 \n",
      " 10                  -1  1         0  torch.nn.modules.upsampling.Upsample         [None, 2, 'nearest']          \n",
      " 11             [-1, 6]  1         0  ultralytics.nn.modules.conv.Concat           [1]                           \n",
      " 12                  -1  1    148224  ultralytics.nn.modules.block.C2f             [384, 128, 1]                 \n",
      " 13                  -1  1         0  torch.nn.modules.upsampling.Upsample         [None, 2, 'nearest']          \n",
      " 14             [-1, 4]  1         0  ultralytics.nn.modules.conv.Concat           [1]                           \n",
      " 15                  -1  1     37248  ultralytics.nn.modules.block.C2f             [192, 64, 1]                  \n",
      " 16                  -1  1     36992  ultralytics.nn.modules.conv.Conv             [64, 64, 3, 2]                \n",
      " 17            [-1, 12]  1         0  ultralytics.nn.modules.conv.Concat           [1]                           \n",
      " 18                  -1  1    123648  ultralytics.nn.modules.block.C2f             [192, 128, 1]                 \n",
      " 19                  -1  1    147712  ultralytics.nn.modules.conv.Conv             [128, 128, 3, 2]              \n",
      " 20             [-1, 9]  1         0  ultralytics.nn.modules.conv.Concat           [1]                           \n",
      " 21                  -1  1    493056  ultralytics.nn.modules.block.C2f             [384, 256, 1]                 \n",
      " 22        [15, 18, 21]  1    751507  ultralytics.nn.modules.head.Detect           [1, [64, 128, 256]]           \n",
      "Model summary: 225 layers, 3011043 parameters, 3011027 gradients, 8.2 GFLOPs\n",
      "\n",
      "Transferred 70/355 items from pretrained weights\n",
      "Freezing layer 'model.22.dfl.conv.weight'\n",
      "\u001b[34m\u001b[1mtrain: \u001b[0mScanning C:\\Users\\c0qs95\\Projects\\20231106_yolo\\datasets\\train\\labels.cache... 164 images, 0 backgrounds, 0 corrupt: 100%|██████████| 164/164 [00:00<?, ?it/s]\n",
      "\u001b[34m\u001b[1mval: \u001b[0mScanning C:\\Users\\c0qs95\\Projects\\20231106_yolo\\datasets\\valid\\labels.cache... 85 images, 0 backgrounds, 0 corrupt: 100%|██████████| 85/85 [00:00<?, ?it/s]\n",
      "Plotting labels to runs\\detect\\yolov8n_custom2\\labels.jpg... \n",
      "\u001b[34m\u001b[1moptimizer:\u001b[0m 'optimizer=auto' found, ignoring 'lr0=0.01' and 'momentum=0.937' and determining best 'optimizer', 'lr0' and 'momentum' automatically... \n",
      "\u001b[34m\u001b[1moptimizer:\u001b[0m AdamW(lr=0.002, momentum=0.9) with parameter groups 57 weight(decay=0.0), 64 weight(decay=0.0005), 63 bias(decay=0.0)\n",
      "Image sizes 640 train, 640 val\n",
      "Using 0 dataloader workers\n",
      "Logging results to \u001b[1mruns\\detect\\yolov8n_custom2\u001b[0m\n",
      "Starting training for 10 epochs...\n",
      "Closing dataloader mosaic\n",
      "\n",
      "      Epoch    GPU_mem   box_loss   cls_loss   dfl_loss  Instances       Size\n",
      "       1/10         0G      2.342      4.851      1.671          1        640: 100%|██████████| 164/164 [00:44<00:00,  3.70it/s]\n",
      "                 Class     Images  Instances      Box(P          R      mAP50  mAP50-95): 100%|██████████| 43/43 [00:05<00:00,  7.32it/s]\n",
      "                   all         85        343    0.00149      0.111    0.00086   0.000248\n",
      "\n",
      "      Epoch    GPU_mem   box_loss   cls_loss   dfl_loss  Instances       Size\n",
      "       2/10         0G      2.002      3.987      1.404          1        640: 100%|██████████| 164/164 [00:42<00:00,  3.88it/s]\n",
      "                 Class     Images  Instances      Box(P          R      mAP50  mAP50-95): 100%|██████████| 43/43 [00:05<00:00,  7.41it/s]\n",
      "                   all         85        343   7.84e-05    0.00583   3.95e-05   9.86e-06\n",
      "\n",
      "      Epoch    GPU_mem   box_loss   cls_loss   dfl_loss  Instances       Size\n",
      "       3/10         0G      1.845      3.394      1.274          2        640: 100%|██████████| 164/164 [00:46<00:00,  3.55it/s]\n",
      "                 Class     Images  Instances      Box(P          R      mAP50  mAP50-95): 100%|██████████| 43/43 [00:08<00:00,  5.02it/s]\n",
      "                   all         85        343   7.84e-05    0.00583   3.96e-05   1.19e-05\n",
      "\n",
      "      Epoch    GPU_mem   box_loss   cls_loss   dfl_loss  Instances       Size\n",
      "       4/10         0G      1.832      3.101      1.206          1        640: 100%|██████████| 164/164 [01:16<00:00,  2.13it/s]\n",
      "                 Class     Images  Instances      Box(P          R      mAP50  mAP50-95): 100%|██████████| 43/43 [00:07<00:00,  6.01it/s]\n",
      "                   all         85        343   0.000235     0.0175    0.00012   2.19e-05\n",
      "\n",
      "      Epoch    GPU_mem   box_loss   cls_loss   dfl_loss  Instances       Size\n",
      "       5/10         0G      1.779      2.962      1.181          1        640: 100%|██████████| 164/164 [00:57<00:00,  2.86it/s]\n",
      "                 Class     Images  Instances      Box(P          R      mAP50  mAP50-95): 100%|██████████| 43/43 [00:07<00:00,  5.58it/s]\n",
      "                   all         85        343   7.84e-05    0.00583   3.95e-05   7.91e-06\n",
      "\n",
      "      Epoch    GPU_mem   box_loss   cls_loss   dfl_loss  Instances       Size\n",
      "       6/10         0G      1.742      2.702      1.174          1        640: 100%|██████████| 164/164 [00:57<00:00,  2.84it/s]\n",
      "                 Class     Images  Instances      Box(P          R      mAP50  mAP50-95): 100%|██████████| 43/43 [00:07<00:00,  5.68it/s]\n",
      "                   all         85        343   3.92e-05    0.00292   1.97e-05   5.91e-06\n",
      "\n",
      "      Epoch    GPU_mem   box_loss   cls_loss   dfl_loss  Instances       Size\n",
      "       7/10         0G      1.761      2.377      1.201          1        640: 100%|██████████| 164/164 [01:03<00:00,  2.60it/s]\n",
      "                 Class     Images  Instances      Box(P          R      mAP50  mAP50-95): 100%|██████████| 43/43 [00:07<00:00,  5.60it/s]\n",
      "                   all         85        343   7.84e-05    0.00583   3.95e-05   7.88e-06\n",
      "\n",
      "      Epoch    GPU_mem   box_loss   cls_loss   dfl_loss  Instances       Size\n",
      "       8/10         0G       1.66      2.322      1.154          2        640: 100%|██████████| 164/164 [01:13<00:00,  2.22it/s]\n",
      "                 Class     Images  Instances      Box(P          R      mAP50  mAP50-95): 100%|██████████| 43/43 [00:07<00:00,  5.96it/s]\n",
      "                   all         85        343   7.84e-05    0.00583   3.95e-05    7.9e-06\n",
      "\n",
      "      Epoch    GPU_mem   box_loss   cls_loss   dfl_loss  Instances       Size\n",
      "       9/10         0G      1.629      2.207       1.13          2        640: 100%|██████████| 164/164 [00:57<00:00,  2.87it/s]\n",
      "                 Class     Images  Instances      Box(P          R      mAP50  mAP50-95): 100%|██████████| 43/43 [00:07<00:00,  5.94it/s]\n",
      "                   all         85        343   7.84e-05    0.00583   3.95e-05   7.88e-06\n",
      "\n",
      "      Epoch    GPU_mem   box_loss   cls_loss   dfl_loss  Instances       Size\n",
      "      10/10         0G      1.597       2.22      1.127          1        640: 100%|██████████| 164/164 [00:57<00:00,  2.86it/s]\n",
      "                 Class     Images  Instances      Box(P          R      mAP50  mAP50-95): 100%|██████████| 43/43 [00:07<00:00,  5.74it/s]\n",
      "                   all         85        343   7.84e-05    0.00583   3.95e-05   7.88e-06\n",
      "\n",
      "10 epochs completed in 0.181 hours.\n",
      "Optimizer stripped from runs\\detect\\yolov8n_custom2\\weights\\last.pt, 6.2MB\n",
      "Optimizer stripped from runs\\detect\\yolov8n_custom2\\weights\\best.pt, 6.2MB\n",
      "\n",
      "Validating runs\\detect\\yolov8n_custom2\\weights\\best.pt...\n",
      "Ultralytics YOLOv8.0.207  Python-3.8.18 torch-2.1.0+cpu CPU (13th Gen Intel Core(TM) i7-1370P)\n",
      "Model summary (fused): 168 layers, 3005843 parameters, 0 gradients, 8.1 GFLOPs\n",
      "                 Class     Images  Instances      Box(P          R      mAP50  mAP50-95): 100%|██████████| 43/43 [00:06<00:00,  6.87it/s]\n",
      "                   all         85        343    0.00149      0.111    0.00086   0.000251\n",
      "Speed: 0.7ms preprocess, 49.0ms inference, 0.0ms loss, 4.4ms postprocess per image\n",
      "Results saved to \u001b[1mruns\\detect\\yolov8n_custom2\u001b[0m\n"
     ]
    }
   ],
   "source": [
    "# Training.\n",
    "results = model.train(\n",
    "    data=\"pothole.yaml\", epochs=10, batch=1, name=\"yolov8n_custom\"\n",
    ")"
   ]
  },
  {
   "cell_type": "code",
   "execution_count": 34,
   "metadata": {},
   "outputs": [],
   "source": [
    "import numpy as np\n",
    "from PIL import Image\n",
    "import matplotlib.pyplot as plt\n",
    "def plot_boxes(image, results, output_path, conf_threshold=0.5):\n",
    "    # Convert the image to a numpy array\n",
    "    if isinstance(image, str):\n",
    "        image = Image.open(image)\n",
    "    image_np = np.array(image)\n",
    "\n",
    "    # Get the predicted boxes from the Results object\n",
    "    boxes = results.xyxy[0].cpu().numpy()\n",
    "    conf_mask = boxes[:, 4] >= conf_threshold\n",
    "    boxes = boxes[conf_mask]\n",
    "\n",
    "    # Extract box coordinates and labels\n",
    "    x, y, w, h = boxes[:, 0], boxes[:, 1], boxes[:, 2] - boxes[:, 0], boxes[:, 3] - boxes[:, 1]\n",
    "    labels = [results.names[int(box[-1])] for box in boxes]\n",
    "\n",
    "    # Create a new plot and draw the bounding boxes\n",
    "    fig, ax = plt.subplots(1)\n",
    "    ax.imshow(image_np)\n",
    "    for i in range(len(x)):\n",
    "        label = labels[i]\n",
    "        rect = plt.Rectangle((x[i], y[i]), w[i], h[i], linewidth=1, edgecolor='r', facecolor='none')\n",
    "        ax.add_patch(rect)\n",
    "        ax.text(x[i], y[i], label, bbox=dict(facecolor='red', alpha=0.5))\n",
    "\n",
    "    # Save the plot to a file\n",
    "    plt.savefig(output_path)\n",
    "\n",
    "    # Close the plot and clear memory\n",
    "    plt.close(fig)\n",
    "    del fig, ax, rect"
   ]
  },
  {
   "cell_type": "code",
   "execution_count": 45,
   "metadata": {},
   "outputs": [
    {
     "name": "stderr",
     "output_type": "stream",
     "text": [
      "\n",
      "image 1/1 c:\\Users\\c0qs95\\Projects\\20231106_yolo\\datasets\\train\\images\\China_MotorBike_000150.jpg: 640x640 165 potholes, 79.1ms\n",
      "Speed: 4.2ms preprocess, 79.1ms inference, 1.0ms postprocess per image at shape (1, 3, 640, 640)\n"
     ]
    }
   ],
   "source": [
    "from PIL import Image\n",
    "\n",
    "# Load the image\n",
    "image_path = \"datasets\\\\train\\\\images\\\\China_MotorBike_000150.jpg\"\n",
    "image = Image.open(image_path)\n",
    "\n",
    "# Predict the bounding boxes\n",
    "pred = model.predict(image_path, conf=0.01, overlap_mask=True)\n",
    "\n",
    "# # Plot the boxes on the image\n",
    "# plot_boxes(image, pred, image_path, conf_threshold=0.5)\n"
   ]
  },
  {
   "cell_type": "code",
   "execution_count": 67,
   "metadata": {},
   "outputs": [],
   "source": [
    "import os\n",
    "HOME = os.getcwd()"
   ]
  },
  {
   "cell_type": "code",
   "execution_count": 75,
   "metadata": {},
   "outputs": [
    {
     "name": "stdout",
     "output_type": "stream",
     "text": [
      "c:\\Users\\c0qs95\\Projects\\20231106_yolo\n"
     ]
    },
    {
     "name": "stderr",
     "output_type": "stream",
     "text": [
      "Ultralytics YOLOv8.0.207  Python-3.8.18 torch-2.1.0+cpu CPU (13th Gen Intel Core(TM) i7-1370P)\n",
      "Model summary (fused): 168 layers, 3005843 parameters, 0 gradients, 8.1 GFLOPs\n",
      "\n",
      "image 1/1 c:\\Users\\c0qs95\\Projects\\20231106_yolo\\datasets\\train\\images\\China_MotorBike_000150.jpg: 640x640 3 potholes, 97.2ms\n",
      "Speed: 0.0ms preprocess, 97.2ms inference, 0.0ms postprocess per image at shape (1, 3, 640, 640)\n",
      "Results saved to \u001b[1mruns\\detect\\predict3\u001b[0m\n",
      " Learn more at https://docs.ultralytics.com/modes/predict\n"
     ]
    }
   ],
   "source": [
    "%cd {HOME}\n",
    "!yolo task=detect mode=predict model='runs\\\\detect\\\\yolov8n_custom2\\\\weights\\\\best.pt' conf=0.25 source='datasets\\\\train\\\\images\\\\China_MotorBike_000150.jpg' save=True"
   ]
  },
  {
   "cell_type": "code",
   "execution_count": 82,
   "metadata": {},
   "outputs": [
    {
     "name": "stderr",
     "output_type": "stream",
     "text": [
      "\n",
      "0: 640x640 3 potholes, 87.1ms\n",
      "Speed: 3.1ms preprocess, 87.1ms inference, 0.0ms postprocess per image at shape (1, 3, 640, 640)\n"
     ]
    },
    {
     "ename": "ValueError",
     "evalue": "setting an array element with a sequence. The requested array would exceed the maximum number of dimension of 32.",
     "output_type": "error",
     "traceback": [
      "\u001b[1;31m---------------------------------------------------------------------------\u001b[0m",
      "\u001b[1;31mValueError\u001b[0m                                Traceback (most recent call last)",
      "\u001b[1;32mc:\\Users\\c0qs95\\Projects\\20231106_yolo\\yolo_v1.ipynb Cell 12\u001b[0m line \u001b[0;36m1\n\u001b[0;32m     <a href='vscode-notebook-cell:/c%3A/Users/c0qs95/Projects/20231106_yolo/yolo_v1.ipynb#X20sZmlsZQ%3D%3D?line=12'>13</a>\u001b[0m img \u001b[39m=\u001b[39m Image\u001b[39m.\u001b[39mopen(img_path)\n\u001b[0;32m     <a href='vscode-notebook-cell:/c%3A/Users/c0qs95/Projects/20231106_yolo/yolo_v1.ipynb#X20sZmlsZQ%3D%3D?line=14'>15</a>\u001b[0m results \u001b[39m=\u001b[39m yolo(img)\n\u001b[1;32m---> <a href='vscode-notebook-cell:/c%3A/Users/c0qs95/Projects/20231106_yolo/yolo_v1.ipynb#X20sZmlsZQ%3D%3D?line=16'>17</a>\u001b[0m plt\u001b[39m.\u001b[39mimshow(random\u001b[39m.\u001b[39;49mchoice(results), interpolation\u001b[39m=\u001b[39m\u001b[39m'\u001b[39m\u001b[39mnearest\u001b[39m\u001b[39m'\u001b[39m)\n\u001b[0;32m     <a href='vscode-notebook-cell:/c%3A/Users/c0qs95/Projects/20231106_yolo/yolo_v1.ipynb#X20sZmlsZQ%3D%3D?line=17'>18</a>\u001b[0m plt\u001b[39m.\u001b[39mshow()\n",
      "File \u001b[1;32mmtrand.pyx:920\u001b[0m, in \u001b[0;36mnumpy.random.mtrand.RandomState.choice\u001b[1;34m()\u001b[0m\n",
      "\u001b[1;31mValueError\u001b[0m: setting an array element with a sequence. The requested array would exceed the maximum number of dimension of 32."
     ]
    }
   ],
   "source": [
    "from PIL import Image\n",
    "from pathlib import Path\n",
    "from matplotlib import pyplot as plt\n",
    "from numpy import random\n",
    "import torch\n",
    "\n",
    "from ultralytics import YOLO\n",
    "\n",
    "model_path = 'runs/detect/yolov8n_custom2/weights/best.pt'\n",
    "yolo = YOLO(model_path)\n",
    "\n",
    "img_path = Path('datasets/train/images/China_MotorBike_000150.jpg')\n",
    "img = Image.open(img_path)\n",
    "\n",
    "results = yolo(img)\n",
    "\n",
    "plt.imshow(random.choice(results), interpolation='nearest')\n",
    "plt.show()\n"
   ]
  },
  {
   "cell_type": "code",
   "execution_count": 84,
   "metadata": {},
   "outputs": [
    {
     "ename": "AttributeError",
     "evalue": "'list' object has no attribute 'boxes'",
     "output_type": "error",
     "traceback": [
      "\u001b[1;31m---------------------------------------------------------------------------\u001b[0m",
      "\u001b[1;31mAttributeError\u001b[0m                            Traceback (most recent call last)",
      "\u001b[1;32mc:\\Users\\c0qs95\\Projects\\20231106_yolo\\yolo_v1.ipynb Cell 13\u001b[0m line \u001b[0;36m1\n\u001b[1;32m----> <a href='vscode-notebook-cell:/c%3A/Users/c0qs95/Projects/20231106_yolo/yolo_v1.ipynb#X23sZmlsZQ%3D%3D?line=0'>1</a>\u001b[0m results\u001b[39m.\u001b[39;49mboxes\n",
      "\u001b[1;31mAttributeError\u001b[0m: 'list' object has no attribute 'boxes'"
     ]
    }
   ],
   "source": [
    "results.boxes"
   ]
  },
  {
   "cell_type": "code",
   "execution_count": 85,
   "metadata": {},
   "outputs": [
    {
     "ename": "AttributeError",
     "evalue": "'list' object has no attribute 'boxes'",
     "output_type": "error",
     "traceback": [
      "\u001b[1;31m---------------------------------------------------------------------------\u001b[0m",
      "\u001b[1;31mAttributeError\u001b[0m                            Traceback (most recent call last)",
      "\u001b[1;32mc:\\Users\\c0qs95\\Projects\\20231106_yolo\\yolo_v1.ipynb Cell 14\u001b[0m line \u001b[0;36m1\n\u001b[1;32m----> <a href='vscode-notebook-cell:/c%3A/Users/c0qs95/Projects/20231106_yolo/yolo_v1.ipynb#X24sZmlsZQ%3D%3D?line=0'>1</a>\u001b[0m results\u001b[39m.\u001b[39;49mboxes\n",
      "\u001b[1;31mAttributeError\u001b[0m: 'list' object has no attribute 'boxes'"
     ]
    }
   ],
   "source": [
    "results.boxes"
   ]
  },
  {
   "cell_type": "code",
   "execution_count": null,
   "metadata": {},
   "outputs": [
    {
     "data": {
      "text/plain": [
       "[ultralytics.engine.results.Results object with attributes:\n",
       " \n",
       " boxes: ultralytics.engine.results.Boxes object\n",
       " keypoints: None\n",
       " masks: None\n",
       " names: {0: 'pothole'}\n",
       " orig_img: array([[[181, 181, 181],\n",
       "         [195, 195, 195],\n",
       "         [176, 176, 176],\n",
       "         ...,\n",
       "         [178, 178, 178],\n",
       "         [166, 166, 166],\n",
       "         [154, 154, 154]],\n",
       " \n",
       "        [[179, 179, 179],\n",
       "         [187, 187, 187],\n",
       "         [177, 177, 177],\n",
       "         ...,\n",
       "         [158, 158, 158],\n",
       "         [189, 189, 189],\n",
       "         [167, 167, 167]],\n",
       " \n",
       "        [[172, 172, 172],\n",
       "         [174, 174, 174],\n",
       "         [180, 180, 180],\n",
       "         ...,\n",
       "         [164, 164, 164],\n",
       "         [145, 145, 145],\n",
       "         [177, 177, 177]],\n",
       " \n",
       "        ...,\n",
       " \n",
       "        [[102, 101, 103],\n",
       "         [156, 155, 157],\n",
       "         [160, 159, 161],\n",
       "         ...,\n",
       "         [119, 119, 119],\n",
       "         [134, 134, 134],\n",
       "         [138, 138, 138]],\n",
       " \n",
       "        [[159, 158, 160],\n",
       "         [139, 138, 140],\n",
       "         [125, 124, 126],\n",
       "         ...,\n",
       "         [117, 117, 117],\n",
       "         [131, 131, 131],\n",
       "         [126, 126, 126]],\n",
       " \n",
       "        [[167, 166, 168],\n",
       "         [135, 134, 136],\n",
       "         [152, 151, 153],\n",
       "         ...,\n",
       "         [119, 119, 119],\n",
       "         [130, 130, 130],\n",
       "         [118, 118, 118]]], dtype=uint8)\n",
       " orig_shape: (512, 512)\n",
       " path: 'C:\\\\Users\\\\c0qs95\\\\Projects\\\\20231106_yolo\\\\datasets\\\\train\\\\images\\\\China_MotorBike_000150.jpg'\n",
       " probs: None\n",
       " save_dir: None\n",
       " speed: {'preprocess': 3.0634403228759766, 'inference': 87.13006973266602, 'postprocess': 0.0}]"
      ]
     },
     "metadata": {},
     "output_type": "display_data"
    }
   ],
   "source": [
    "results"
   ]
  },
  {
   "cell_type": "code",
   "execution_count": null,
   "metadata": {},
   "outputs": [
    {
     "data": {
      "text/plain": [
       "[ultralytics.engine.results.Results object with attributes:\n",
       " \n",
       " boxes: ultralytics.engine.results.Boxes object\n",
       " keypoints: None\n",
       " masks: None\n",
       " names: {0: 'pothole'}\n",
       " orig_img: array([[[181, 181, 181],\n",
       "         [195, 195, 195],\n",
       "         [176, 176, 176],\n",
       "         ...,\n",
       "         [178, 178, 178],\n",
       "         [166, 166, 166],\n",
       "         [154, 154, 154]],\n",
       " \n",
       "        [[179, 179, 179],\n",
       "         [187, 187, 187],\n",
       "         [177, 177, 177],\n",
       "         ...,\n",
       "         [158, 158, 158],\n",
       "         [189, 189, 189],\n",
       "         [167, 167, 167]],\n",
       " \n",
       "        [[172, 172, 172],\n",
       "         [174, 174, 174],\n",
       "         [180, 180, 180],\n",
       "         ...,\n",
       "         [164, 164, 164],\n",
       "         [145, 145, 145],\n",
       "         [177, 177, 177]],\n",
       " \n",
       "        ...,\n",
       " \n",
       "        [[102, 101, 103],\n",
       "         [156, 155, 157],\n",
       "         [160, 159, 161],\n",
       "         ...,\n",
       "         [119, 119, 119],\n",
       "         [134, 134, 134],\n",
       "         [138, 138, 138]],\n",
       " \n",
       "        [[159, 158, 160],\n",
       "         [139, 138, 140],\n",
       "         [125, 124, 126],\n",
       "         ...,\n",
       "         [117, 117, 117],\n",
       "         [131, 131, 131],\n",
       "         [126, 126, 126]],\n",
       " \n",
       "        [[167, 166, 168],\n",
       "         [135, 134, 136],\n",
       "         [152, 151, 153],\n",
       "         ...,\n",
       "         [119, 119, 119],\n",
       "         [130, 130, 130],\n",
       "         [118, 118, 118]]], dtype=uint8)\n",
       " orig_shape: (512, 512)\n",
       " path: 'C:\\\\Users\\\\c0qs95\\\\Projects\\\\20231106_yolo\\\\datasets\\\\train\\\\images\\\\China_MotorBike_000150.jpg'\n",
       " probs: None\n",
       " save_dir: None\n",
       " speed: {'preprocess': 3.0634403228759766, 'inference': 87.13006973266602, 'postprocess': 0.0}]"
      ]
     },
     "metadata": {},
     "output_type": "display_data"
    }
   ],
   "source": [
    "results"
   ]
  },
  {
   "cell_type": "code",
   "execution_count": null,
   "metadata": {},
   "outputs": [
    {
     "data": {
      "text/plain": [
       "[ultralytics.engine.results.Results object with attributes:\n",
       " \n",
       " boxes: ultralytics.engine.results.Boxes object\n",
       " keypoints: None\n",
       " masks: None\n",
       " names: {0: 'pothole'}\n",
       " orig_img: array([[[181, 181, 181],\n",
       "         [195, 195, 195],\n",
       "         [176, 176, 176],\n",
       "         ...,\n",
       "         [178, 178, 178],\n",
       "         [166, 166, 166],\n",
       "         [154, 154, 154]],\n",
       " \n",
       "        [[179, 179, 179],\n",
       "         [187, 187, 187],\n",
       "         [177, 177, 177],\n",
       "         ...,\n",
       "         [158, 158, 158],\n",
       "         [189, 189, 189],\n",
       "         [167, 167, 167]],\n",
       " \n",
       "        [[172, 172, 172],\n",
       "         [174, 174, 174],\n",
       "         [180, 180, 180],\n",
       "         ...,\n",
       "         [164, 164, 164],\n",
       "         [145, 145, 145],\n",
       "         [177, 177, 177]],\n",
       " \n",
       "        ...,\n",
       " \n",
       "        [[102, 101, 103],\n",
       "         [156, 155, 157],\n",
       "         [160, 159, 161],\n",
       "         ...,\n",
       "         [119, 119, 119],\n",
       "         [134, 134, 134],\n",
       "         [138, 138, 138]],\n",
       " \n",
       "        [[159, 158, 160],\n",
       "         [139, 138, 140],\n",
       "         [125, 124, 126],\n",
       "         ...,\n",
       "         [117, 117, 117],\n",
       "         [131, 131, 131],\n",
       "         [126, 126, 126]],\n",
       " \n",
       "        [[167, 166, 168],\n",
       "         [135, 134, 136],\n",
       "         [152, 151, 153],\n",
       "         ...,\n",
       "         [119, 119, 119],\n",
       "         [130, 130, 130],\n",
       "         [118, 118, 118]]], dtype=uint8)\n",
       " orig_shape: (512, 512)\n",
       " path: 'C:\\\\Users\\\\c0qs95\\\\Projects\\\\20231106_yolo\\\\datasets\\\\train\\\\images\\\\China_MotorBike_000150.jpg'\n",
       " probs: None\n",
       " save_dir: None\n",
       " speed: {'preprocess': 3.0634403228759766, 'inference': 87.13006973266602, 'postprocess': 0.0}]"
      ]
     },
     "metadata": {},
     "output_type": "display_data"
    }
   ],
   "source": [
    "results"
   ]
  },
  {
   "cell_type": "code",
   "execution_count": null,
   "metadata": {},
   "outputs": [],
   "source": [
    "img_dir = Path('datasets/train/images')\n",
    "imgs = sorted(img_dir.glob('*'))\n",
    "\n",
    "results = [yolo(img) for img in imgs]\n",
    "\n",
    "for res in results:\n",
    "    res.render()\n",
    "\n",
    "plt.imshow(random.choice(results[0].imgs), interpolation='nearest')\n",
    "plt.show()"
   ]
  }
 ],
 "metadata": {
  "kernelspec": {
   "display_name": "py36",
   "language": "python",
   "name": "python3"
  },
  "language_info": {
   "codemirror_mode": {
    "name": "ipython",
    "version": 3
   },
   "file_extension": ".py",
   "mimetype": "text/x-python",
   "name": "python",
   "nbconvert_exporter": "python",
   "pygments_lexer": "ipython3",
   "version": "3.8.18"
  }
 },
 "nbformat": 4,
 "nbformat_minor": 2
}
